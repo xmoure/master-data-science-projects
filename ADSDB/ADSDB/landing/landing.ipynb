{
 "cells": [
  {
   "cell_type": "code",
   "execution_count": 6,
   "id": "a3ce1249-ba6b-4e49-ae18-ac0008a81784",
   "metadata": {},
   "outputs": [],
   "source": [
    "import time\n",
    "from watchdog.observers import Observer\n",
    "from watchdog.events import FileSystemEventHandler, PatternMatchingEventHandler\n",
    "import shutil as sh\n",
    "from datetime import datetime\n",
    "\n",
    "sep = \"@\"\n",
    "orig_folder = \"temporal/\"\n",
    "dest_folder = \"persistent/\"\n",
    "\n",
    "class EventHandler(PatternMatchingEventHandler):\n",
    "    def __init__(self):\n",
    "        PatternMatchingEventHandler.__init__(\n",
    "            self,\n",
    "            patterns=[\"*.csv\"],\n",
    "            ignore_directories=True,\n",
    "            case_sensitive=False,\n",
    "        )    \n",
    "    \n",
    "    def on_created(self, event):\n",
    "        filename = event.src_path.split(\"/\")[-1]\n",
    "        filename_trunc = filename.split(\".\")[0]\n",
    "        now = datetime.now().strftime(\"%m-%d-%Y-%H.%M.%S\") # dots to be able to create files in windows os\n",
    "        filename_metadata = str(now) + \"@\" + filename_trunc + \".csv\"\n",
    "        try:\n",
    "            sh.move(orig_folder + filename, dest_folder + filename_metadata)\n",
    "        except BaseException as error:\n",
    "            print('An exception occurred: {}'.format(error))\n",
    "\n",
    "event_handler = EventHandler()\n",
    "observer = Observer()\n",
    "observer.schedule(event_handler, orig_folder, recursive=True)\n",
    "observer.start()\n",
    "\n",
    "try:\n",
    "    while True:\n",
    "        time.sleep(1)\n",
    "        \n",
    "except KeyboardInterrupt:\n",
    "    observer.stop()\n",
    "observer.join()"
   ]
  },
  {
   "cell_type": "code",
   "execution_count": null,
   "id": "f69e63e6-82b4-48c6-8f51-7b6929f19707",
   "metadata": {},
   "outputs": [],
   "source": []
  }
 ],
 "metadata": {
  "kernelspec": {
   "display_name": "Python 3 (ipykernel)",
   "language": "python",
   "name": "python3"
  },
  "language_info": {
   "codemirror_mode": {
    "name": "ipython",
    "version": 3
   },
   "file_extension": ".py",
   "mimetype": "text/x-python",
   "name": "python",
   "nbconvert_exporter": "python",
   "pygments_lexer": "ipython3",
   "version": "3.9.12"
  }
 },
 "nbformat": 4,
 "nbformat_minor": 5
}
