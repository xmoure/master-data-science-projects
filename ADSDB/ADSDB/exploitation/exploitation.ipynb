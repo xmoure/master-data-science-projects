{
 "cells": [
  {
   "cell_type": "code",
   "execution_count": 1,
   "id": "10b570ab-3583-4c84-a37e-b99473d423dd",
   "metadata": {},
   "outputs": [
    {
     "data": {
      "text/plain": [
       "<duckdb.DuckDBPyConnection at 0x7f03b41e6470>"
      ]
     },
     "execution_count": 1,
     "metadata": {},
     "output_type": "execute_result"
    }
   ],
   "source": [
    "import time\n",
    "from watchdog.observers import Observer\n",
    "from watchdog.events import FileSystemEventHandler, PatternMatchingEventHandler\n",
    "import duckdb\n",
    "import pathlib\n",
    "import pandas as pd\n",
    "import numpy as np\n",
    "\n",
    "conn_expl = duckdb.connect(database=str(pathlib.Path().resolve().parent) + '/exploitation/my-db.duckdb', read_only=False)\n",
    "conn_trusted = duckdb.connect(database=str(pathlib.Path().resolve().parent) + '/trusted/my-db.duckdb', read_only=False)\n",
    "trusted_cursor = conn_trusted.cursor()\n",
    "\n",
    "\n",
    "# merge tables\n",
    "df = trusted_cursor.execute(\"SELECT * FROM student INNER JOIN countrycode on student.country = countrycode.country INNER JOIN IQ on countrycode.country_name = IQ.country\").df()\n",
    "conn_expl.execute(f\"CREATE TABLE IF NOT EXISTS dataset AS SELECT * FROM df\")"
   ]
  },
  {
   "cell_type": "code",
   "execution_count": 3,
   "id": "f3ed726e-d2e5-4989-aa4e-7b1ac91e1d42",
   "metadata": {},
   "outputs": [],
   "source": [
    "conn_expl.close()\n",
    "conn_trusted.close()"
   ]
  }
 ],
 "metadata": {
  "kernelspec": {
   "display_name": "Python 3 (ipykernel)",
   "language": "python",
   "name": "python3"
  },
  "language_info": {
   "codemirror_mode": {
    "name": "ipython",
    "version": 3
   },
   "file_extension": ".py",
   "mimetype": "text/x-python",
   "name": "python",
   "nbconvert_exporter": "python",
   "pygments_lexer": "ipython3",
   "version": "3.9.12"
  }
 },
 "nbformat": 4,
 "nbformat_minor": 5
}
