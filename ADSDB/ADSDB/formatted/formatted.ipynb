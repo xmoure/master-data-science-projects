{
 "cells": [
  {
   "cell_type": "code",
   "execution_count": 1,
   "id": "08d13dde-ec9e-4acd-93d2-d6d0e37524af",
   "metadata": {},
   "outputs": [
    {
     "name": "stdout",
     "output_type": "stream",
     "text": [
      "Requirement already satisfied: duckdb==0.5.0 in /home/norhther/anaconda3/lib/python3.9/site-packages (0.5.0)\n",
      "Requirement already satisfied: numpy>=1.14 in /home/norhther/anaconda3/lib/python3.9/site-packages (from duckdb==0.5.0) (1.21.5)\n",
      "Requirement already satisfied: watchdog in /home/norhther/anaconda3/lib/python3.9/site-packages (2.1.6)\n"
     ]
    }
   ],
   "source": [
    "!pip install duckdb==0.5.0\n",
    "!pip install watchdog"
   ]
  },
  {
   "cell_type": "code",
   "execution_count": 20,
   "id": "e4221c00-1f53-4bdb-8a0a-0bc456355e0c",
   "metadata": {},
   "outputs": [
    {
     "name": "stdout",
     "output_type": "stream",
     "text": [
      "[('IQ_part1',)]\n",
      "[('IQ_part1',), ('IQ_part2',)]\n",
      "[('IQ_part1',), ('IQ_part2',), ('countrycode',)]\n",
      "[('IQ_part1',), ('IQ_part2',), ('countrycode',), ('student_data_2015',)]\n"
     ]
    }
   ],
   "source": [
    "import time\n",
    "from watchdog.observers import Observer\n",
    "from watchdog.events import FileSystemEventHandler, PatternMatchingEventHandler\n",
    "import duckdb\n",
    "import pathlib\n",
    "\n",
    "parent_path = str(pathlib.Path().resolve().parent)\n",
    "path = parent_path + \"/landing/persistent/\"\n",
    "global con\n",
    "con = duckdb.connect(database = parent_path + '/formatted/my-db.duckdb', read_only=False)\n",
    "sep = \"@\"\n",
    "\n",
    "class EventHandler(PatternMatchingEventHandler):\n",
    "    def __init__(self, query):\n",
    "        PatternMatchingEventHandler.__init__(\n",
    "            self,\n",
    "            patterns=[\"*.csv\"],\n",
    "            ignore_directories=True,\n",
    "            case_sensitive=False,\n",
    "        )\n",
    "        self.query = query\n",
    "    \n",
    "    \n",
    "    def on_created(self, event):\n",
    "        filename = event.src_path.split(\"/\")[-1]\n",
    "        filename_no_sep = filename.split(sep)[1]\n",
    "        filename_trunc = filename_no_sep.split(\".\")[0]\n",
    "        try:\n",
    "            cursor = con.cursor()\n",
    "            cursor.execute(query.format(filename_trunc), \n",
    "                           [event.src_path])\n",
    "            \n",
    "            cursor.execute(\"show tables\")\n",
    "            print(cursor.fetchall())\n",
    "        except Exception as e:\n",
    "            print(e)\n",
    "        finally:\n",
    "            cursor.close()\n",
    "\n",
    "query = \"CREATE TABLE {} AS SELECT * FROM read_csv_auto(?, HEADER=TRUE);\"\n",
    "event_handler = EventHandler(query)\n",
    "observer = Observer()\n",
    "observer.schedule(event_handler, path, recursive=True)\n",
    "observer.start()\n",
    "\n",
    "try:\n",
    "    while True:\n",
    "        time.sleep(1)\n",
    "        \n",
    "except KeyboardInterrupt:\n",
    "    observer.stop()\n",
    "    con.close()\n",
    "observer.join()"
   ]
  },
  {
   "cell_type": "code",
   "execution_count": 21,
   "id": "dab4f39a-c2f9-4a12-94eb-0d3928e5ee29",
   "metadata": {},
   "outputs": [
    {
     "name": "stdout",
     "output_type": "stream",
     "text": [
      "[('IQ_part1',), ('IQ_part2',), ('countrycode',), ('student_data_2015',)]\n"
     ]
    }
   ],
   "source": [
    "con = duckdb.connect(database=parent_path + '/formatted/my-db.duckdb', read_only=False)\n",
    "cursor = con.cursor()\n",
    "cursor.execute(\"show tables\")\n",
    "print(cursor.fetchall())\n",
    "con.close()"
   ]
  },
  {
   "cell_type": "code",
   "execution_count": null,
   "id": "3d21681e-e180-4966-950d-0c506e1bb490",
   "metadata": {},
   "outputs": [],
   "source": [
    "con = duckdb.connect(database=parent_path + '/formatted/my-db.duckdb', read_only=False)\n",
    "cursor = con.cursor()\n",
    "cursor.execute(\"show tables\")\n",
    "tables = [x[0] for x in cursor.fetchall()]\n",
    "\n",
    "for table in tables:\n",
    "    cursor.execute(f\"Drop table {table}\")"
   ]
  }
 ],
 "metadata": {
  "kernelspec": {
   "display_name": "Python 3 (ipykernel)",
   "language": "python",
   "name": "python3"
  },
  "language_info": {
   "codemirror_mode": {
    "name": "ipython",
    "version": 3
   },
   "file_extension": ".py",
   "mimetype": "text/x-python",
   "name": "python",
   "nbconvert_exporter": "python",
   "pygments_lexer": "ipython3",
   "version": "3.9.12"
  }
 },
 "nbformat": 4,
 "nbformat_minor": 5
}
